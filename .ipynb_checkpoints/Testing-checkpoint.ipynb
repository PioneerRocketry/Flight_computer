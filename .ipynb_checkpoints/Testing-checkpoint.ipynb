{
 "cells": [
  {
   "cell_type": "code",
   "execution_count": 1,
   "metadata": {
    "scrolled": true
   },
   "outputs": [],
   "source": [
    "import simulator\n",
    "from matplotlib import pyplot as plt \n",
    "import matplotlib\n",
    "import numpy as np"
   ]
  },
  {
   "cell_type": "code",
   "execution_count": 4,
   "metadata": {
    "scrolled": true
   },
   "outputs": [
    {
     "name": "stderr",
     "output_type": "stream",
     "text": [
      "100% |########################################################################|\n"
     ]
    }
   ],
   "source": [
    "results = simulator.gather_data(200)\n",
    "accuracies = results[0]\n",
    "failrate = results[1] / results[2]\n",
    "altitudes = results[3]\n",
    "avg = lambda lst: round(sum(lst)/len(lst),4)\n",
    "for i in range(results[1]):\n",
    "    accuracies.append(0)"
   ]
  },
  {
   "cell_type": "code",
   "execution_count": 5,
   "metadata": {},
   "outputs": [],
   "source": [
    "%matplotlib inline"
   ]
  },
  {
   "cell_type": "code",
   "execution_count": 12,
   "metadata": {},
   "outputs": [],
   "source": [
    "def grader(accuracies, total_fails, test_size, altitudes):\n",
    "    scale = {\n",
    "        0.5:\"E\",\n",
    "        0.6:\"D\",\n",
    "        0.7:\"C\",\n",
    "        0.8:\"B\",\n",
    "        0.9:\"A\"\n",
    "    }\n",
    "    fail_rate = 100* total_fails / test_size\n",
    "    avg = lambda lst: round(sum(lst)/len(lst),4)\n",
    "    letter = scale[round(avg(accuracies), 1)]\n",
    "    print(\"Report:\")\n",
    "    print(\"-----------------------------------------\")\n",
    "    print(\"Grade: \",letter)\n",
    "    print(\"Standard Deviation of Altitudes: \", round(np.std(altitudes),3), \"meters\")\n",
    "    print(\"Average Altitude: \", avg(altitudes),\"meters\")\n",
    "    print(\"Average Accuracy: \",round(avg(accuracies)*100,4), \"%\")\n",
    "    print(\"Absolute failrate: \", fail_rate, \"%\")"
   ]
  },
  {
   "cell_type": "code",
   "execution_count": 13,
   "metadata": {
    "scrolled": true
   },
   "outputs": [
    {
     "data": {
      "image/png": "[encoded data removed]",
      "text/plain": [
       "<Figure size 432x288 with 2 Axes>"
      ]
     },
     "metadata": {},
     "output_type": "display_data"
    },
    {
     "name": "stdout",
     "output_type": "stream",
     "text": [
      "Report:\n",
      "-----------------------------------------\n",
      "Grade:  B\n",
      "Standard Deviation of Altitudes:  84.854 meters\n",
      "Average Altitude:  375.6786 meters\n",
      "Average Accuracy:  80.78 %\n",
      "Absolute failrate:  4.5 %\n"
     ]
    }
   ],
   "source": [
    "fig, (ax1, ax2) = plt.subplots(1, 2, sharey=True)\n",
    "matplotlib.rcParams['font.size'] = 13\n",
    "#matplotlib.rcParams['font.family'] = 'Ubuntu'\n",
    "fig.set_facecolor(\"white\")\n",
    "ax1.hist(altitudes, bins=40, color=\"orange\")\n",
    "ax2.hist(results[0], bins=40)\n",
    "ax1.title.set_text(\"Altitudes\")\n",
    "ax2.title.set_text(\"Accuracies\")\n",
    "ax1.set_xlabel(\"Altitude\")\n",
    "ax2.set_xlabel(\"Accuracy\")\n",
    "plt.show()\n",
    "grader(accuracies, results[1], results[2], results[3])"
   ]
  },
  {
   "cell_type": "code",
   "execution_count": null,
   "metadata": {},
   "outputs": [],
   "source": []
  },
  {
   "cell_type": "code",
   "execution_count": null,
   "metadata": {},
   "outputs": [],
   "source": []
  },
  {
   "cell_type": "code",
   "execution_count": null,
   "metadata": {},
   "outputs": [],
   "source": []
  }
 ],
 "metadata": {
  "kernelspec": {
   "display_name": "Python 3",
   "language": "python",
   "name": "python3"
  },
  "language_info": {
   "codemirror_mode": {
    "name": "ipython",
    "version": 3
   },
   "file_extension": ".py",
   "mimetype": "text/x-python",
   "name": "python",
   "nbconvert_exporter": "python",
   "pygments_lexer": "ipython3",
   "version": "3.8.4"
  }
 },
 "nbformat": 4,
 "nbformat_minor": 5
}
